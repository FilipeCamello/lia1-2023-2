{
 "cells": [
  {
   "cell_type": "markdown",
   "id": "40228ccd",
   "metadata": {},
   "source": [
    "#### Tudo sobre o Python:\n",
    "\n",
    "https://docs.python.org/pt-br/3/tutorial/"
   ]
  },
  {
   "cell_type": "code",
   "execution_count": 1,
   "id": "4eeb0b46",
   "metadata": {},
   "outputs": [
    {
     "name": "stdout",
     "output_type": "stream",
     "text": [
      "A versão em uso é 3.11.5.\n"
     ]
    }
   ],
   "source": [
    "from platform import python_version\n",
    "print (f'A versão em uso é {python_version()}.')"
   ]
  },
  {
   "cell_type": "code",
   "execution_count": 2,
   "id": "74d49791",
   "metadata": {},
   "outputs": [
    {
     "name": "stdout",
     "output_type": "stream",
     "text": [
      "Adios\n"
     ]
    }
   ],
   "source": [
    "# Verificar se o Python está funcionando\n",
    "print ('Adios')"
   ]
  },
  {
   "cell_type": "markdown",
   "id": "8f6c207e",
   "metadata": {},
   "source": [
    "#### Operadores Aritméticos"
   ]
  },
  {
   "cell_type": "code",
   "execution_count": 3,
   "id": "0e57905f",
   "metadata": {},
   "outputs": [
    {
     "data": {
      "text/plain": [
       "2"
      ]
     },
     "execution_count": 3,
     "metadata": {},
     "output_type": "execute_result"
    }
   ],
   "source": [
    "#adição\n",
    "1 + 1"
   ]
  },
  {
   "cell_type": "code",
   "execution_count": 4,
   "id": "76dac402",
   "metadata": {},
   "outputs": [
    {
     "data": {
      "text/plain": [
       "-2"
      ]
     },
     "execution_count": 4,
     "metadata": {},
     "output_type": "execute_result"
    }
   ],
   "source": [
    "#subtração\n",
    "3 - 5"
   ]
  },
  {
   "cell_type": "code",
   "execution_count": 5,
   "id": "e822d6c8",
   "metadata": {},
   "outputs": [
    {
     "data": {
      "text/plain": [
       "15"
      ]
     },
     "execution_count": 5,
     "metadata": {},
     "output_type": "execute_result"
    }
   ],
   "source": [
    "#multiplicação\n",
    "3 * 5"
   ]
  },
  {
   "cell_type": "code",
   "execution_count": 6,
   "id": "f07a49a5",
   "metadata": {},
   "outputs": [
    {
     "data": {
      "text/plain": [
       "0.6"
      ]
     },
     "execution_count": 6,
     "metadata": {},
     "output_type": "execute_result"
    }
   ],
   "source": [
    "#divisão\n",
    "3 / 5"
   ]
  },
  {
   "cell_type": "code",
   "execution_count": 7,
   "id": "8ec9f0b9",
   "metadata": {},
   "outputs": [
    {
     "data": {
      "text/plain": [
       "1024"
      ]
     },
     "execution_count": 7,
     "metadata": {},
     "output_type": "execute_result"
    }
   ],
   "source": [
    "#potencia\n",
    "2 ** 10"
   ]
  },
  {
   "cell_type": "code",
   "execution_count": 8,
   "id": "81b67395",
   "metadata": {},
   "outputs": [
    {
     "data": {
      "text/plain": [
       "1"
      ]
     },
     "execution_count": 8,
     "metadata": {},
     "output_type": "execute_result"
    }
   ],
   "source": [
    "#módulo (resto da divisão)\n",
    "10 % 3"
   ]
  },
  {
   "cell_type": "markdown",
   "id": "8c6c82dd",
   "metadata": {},
   "source": [
    "#### Tipo de dados (Type)"
   ]
  },
  {
   "cell_type": "markdown",
   "id": "02426f8a",
   "metadata": {},
   "source": [
    "#### Qual o tipo do (?)"
   ]
  },
  {
   "cell_type": "code",
   "execution_count": 16,
   "id": "ab18c90c",
   "metadata": {},
   "outputs": [
    {
     "data": {
      "text/plain": [
       "int"
      ]
     },
     "execution_count": 16,
     "metadata": {},
     "output_type": "execute_result"
    }
   ],
   "source": [
    "#inteiro\n",
    "type(5)"
   ]
  },
  {
   "cell_type": "code",
   "execution_count": 18,
   "id": "81cf2e5b",
   "metadata": {},
   "outputs": [
    {
     "data": {
      "text/plain": [
       "float"
      ]
     },
     "execution_count": 18,
     "metadata": {},
     "output_type": "execute_result"
    }
   ],
   "source": [
    "#float\n",
    "type(0.6)"
   ]
  },
  {
   "cell_type": "code",
   "execution_count": 20,
   "id": "0fd0e4e5",
   "metadata": {},
   "outputs": [
    {
     "data": {
      "text/plain": [
       "str"
      ]
     },
     "execution_count": 20,
     "metadata": {},
     "output_type": "execute_result"
    }
   ],
   "source": [
    "#string\n",
    "a = 'Estudando Python'\n",
    "type(a)"
   ]
  },
  {
   "cell_type": "markdown",
   "id": "d09a4814",
   "metadata": {},
   "source": [
    "#### Condicional If"
   ]
  },
  {
   "cell_type": "code",
   "execution_count": 23,
   "id": "75bbe08a",
   "metadata": {},
   "outputs": [
    {
     "name": "stdout",
     "output_type": "stream",
     "text": [
      "5 é maior que 2\n"
     ]
    }
   ],
   "source": [
    "if 5> 2:\n",
    "    print (\"5 é maior que 2\")"
   ]
  },
  {
   "cell_type": "code",
   "execution_count": 26,
   "id": "a634118a",
   "metadata": {},
   "outputs": [
    {
     "name": "stdout",
     "output_type": "stream",
     "text": [
      "5 não é menor que 2\n"
     ]
    }
   ],
   "source": [
    "#if else:\n",
    "if 5 < 2:\n",
    "    print (\"5 é menor que 2\")\n",
    "else:\n",
    "    print (\"5 não é menor que 2\")"
   ]
  },
  {
   "cell_type": "code",
   "execution_count": 31,
   "id": "6d384b56",
   "metadata": {},
   "outputs": [
    {
     "name": "stdout",
     "output_type": "stream",
     "text": [
      "hoje vai chover\n"
     ]
    }
   ],
   "source": [
    "#if else com variavel\n",
    "a = \"Quarta\"\n",
    "if a == \"Sexta\":\n",
    "    print(\"Hoje fará sol\")\n",
    "else:\n",
    "    print (\"hoje vai chover\")"
   ]
  },
  {
   "cell_type": "markdown",
   "id": "7c98567c",
   "metadata": {},
   "source": [
    "#### Manipulando arquivos"
   ]
  },
  {
   "cell_type": "markdown",
   "id": "7fc103a7",
   "metadata": {},
   "source": [
    "#### Lendo arquivos (.txt)"
   ]
  },
  {
   "cell_type": "code",
   "execution_count": 5,
   "id": "d731d2fb",
   "metadata": {},
   "outputs": [
    {
     "name": "stdout",
     "output_type": "stream",
     "text": [
      "123abc\n"
     ]
    }
   ],
   "source": [
    "#abrir para leitura\n",
    "a1 = open(\"Arquivos/arquivo.txt\", \"r\")\n",
    "print (a1.read())"
   ]
  },
  {
   "cell_type": "code",
   "execution_count": 6,
   "id": "3e1a726c",
   "metadata": {},
   "outputs": [],
   "source": [
    "#gravando no arquivo"
   ]
  },
  {
   "cell_type": "code",
   "execution_count": 20,
   "id": "f6627029",
   "metadata": {},
   "outputs": [
    {
     "name": "stdout",
     "output_type": "stream",
     "text": [
      "escrevi e sai correndo\n"
     ]
    }
   ],
   "source": [
    "a2 = open (\"Arquivos/arquivo.txt\", \"w\")\n",
    "a2.write (\"escrevi e sai correndo\")\n",
    "a2 = open (\"Arquivos/arquivo.txt\", \"r\")\n",
    "print(a2.read())"
   ]
  },
  {
   "cell_type": "code",
   "execution_count": null,
   "id": "71dc5fa5",
   "metadata": {},
   "outputs": [],
   "source": []
  },
  {
   "cell_type": "code",
   "execution_count": null,
   "id": "022f1cc6",
   "metadata": {},
   "outputs": [],
   "source": []
  }
 ],
 "metadata": {
  "kernelspec": {
   "display_name": "Python 3 (ipykernel)",
   "language": "python",
   "name": "python3"
  },
  "language_info": {
   "codemirror_mode": {
    "name": "ipython",
    "version": 3
   },
   "file_extension": ".py",
   "mimetype": "text/x-python",
   "name": "python",
   "nbconvert_exporter": "python",
   "pygments_lexer": "ipython3",
   "version": "3.11.5"
  }
 },
 "nbformat": 4,
 "nbformat_minor": 5
}
